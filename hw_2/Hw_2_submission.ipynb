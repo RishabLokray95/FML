{
 "cells": [
  {
   "cell_type": "markdown",
   "metadata": {},
   "source": [
    "# HOMEWORK-2\n",
    "### RISHAB LOKRAY (9357-3447)"
   ]
  },
  {
   "cell_type": "code",
   "execution_count": 1,
   "metadata": {},
   "outputs": [],
   "source": [
    "import numpy as np\n",
    "import pandas as pd\n",
    "import matplotlib.pyplot as plt"
   ]
  },
  {
   "cell_type": "code",
   "execution_count": 2,
   "metadata": {},
   "outputs": [
    {
     "data": {
      "text/html": [
       "<div>\n",
       "<style scoped>\n",
       "    .dataframe tbody tr th:only-of-type {\n",
       "        vertical-align: middle;\n",
       "    }\n",
       "\n",
       "    .dataframe tbody tr th {\n",
       "        vertical-align: top;\n",
       "    }\n",
       "\n",
       "    .dataframe thead th {\n",
       "        text-align: right;\n",
       "    }\n",
       "</style>\n",
       "<table border=\"1\" class=\"dataframe\">\n",
       "  <thead>\n",
       "    <tr style=\"text-align: right;\">\n",
       "      <th></th>\n",
       "      <th>Species</th>\n",
       "      <th>FrontalLip</th>\n",
       "      <th>RearWidth</th>\n",
       "      <th>Length</th>\n",
       "      <th>Width</th>\n",
       "      <th>Depth</th>\n",
       "      <th>Male</th>\n",
       "      <th>Female</th>\n",
       "    </tr>\n",
       "  </thead>\n",
       "  <tbody>\n",
       "    <tr>\n",
       "      <td>0</td>\n",
       "      <td>0</td>\n",
       "      <td>20.6</td>\n",
       "      <td>14.4</td>\n",
       "      <td>42.8</td>\n",
       "      <td>46.5</td>\n",
       "      <td>19.6</td>\n",
       "      <td>1</td>\n",
       "      <td>0</td>\n",
       "    </tr>\n",
       "    <tr>\n",
       "      <td>1</td>\n",
       "      <td>1</td>\n",
       "      <td>13.3</td>\n",
       "      <td>11.1</td>\n",
       "      <td>27.8</td>\n",
       "      <td>32.3</td>\n",
       "      <td>11.3</td>\n",
       "      <td>1</td>\n",
       "      <td>0</td>\n",
       "    </tr>\n",
       "    <tr>\n",
       "      <td>2</td>\n",
       "      <td>0</td>\n",
       "      <td>16.7</td>\n",
       "      <td>14.3</td>\n",
       "      <td>32.3</td>\n",
       "      <td>37.0</td>\n",
       "      <td>14.7</td>\n",
       "      <td>0</td>\n",
       "      <td>1</td>\n",
       "    </tr>\n",
       "    <tr>\n",
       "      <td>3</td>\n",
       "      <td>1</td>\n",
       "      <td>9.8</td>\n",
       "      <td>8.9</td>\n",
       "      <td>20.4</td>\n",
       "      <td>23.9</td>\n",
       "      <td>8.8</td>\n",
       "      <td>0</td>\n",
       "      <td>1</td>\n",
       "    </tr>\n",
       "    <tr>\n",
       "      <td>4</td>\n",
       "      <td>0</td>\n",
       "      <td>15.6</td>\n",
       "      <td>14.1</td>\n",
       "      <td>31.0</td>\n",
       "      <td>34.5</td>\n",
       "      <td>13.8</td>\n",
       "      <td>0</td>\n",
       "      <td>1</td>\n",
       "    </tr>\n",
       "    <tr>\n",
       "      <td>...</td>\n",
       "      <td>...</td>\n",
       "      <td>...</td>\n",
       "      <td>...</td>\n",
       "      <td>...</td>\n",
       "      <td>...</td>\n",
       "      <td>...</td>\n",
       "      <td>...</td>\n",
       "      <td>...</td>\n",
       "    </tr>\n",
       "    <tr>\n",
       "      <td>195</td>\n",
       "      <td>1</td>\n",
       "      <td>12.3</td>\n",
       "      <td>11.0</td>\n",
       "      <td>26.8</td>\n",
       "      <td>31.5</td>\n",
       "      <td>11.4</td>\n",
       "      <td>1</td>\n",
       "      <td>0</td>\n",
       "    </tr>\n",
       "    <tr>\n",
       "      <td>196</td>\n",
       "      <td>1</td>\n",
       "      <td>12.0</td>\n",
       "      <td>11.1</td>\n",
       "      <td>25.4</td>\n",
       "      <td>29.2</td>\n",
       "      <td>11.0</td>\n",
       "      <td>0</td>\n",
       "      <td>1</td>\n",
       "    </tr>\n",
       "    <tr>\n",
       "      <td>197</td>\n",
       "      <td>1</td>\n",
       "      <td>8.8</td>\n",
       "      <td>7.7</td>\n",
       "      <td>18.1</td>\n",
       "      <td>20.8</td>\n",
       "      <td>7.4</td>\n",
       "      <td>1</td>\n",
       "      <td>0</td>\n",
       "    </tr>\n",
       "    <tr>\n",
       "      <td>198</td>\n",
       "      <td>1</td>\n",
       "      <td>16.2</td>\n",
       "      <td>15.2</td>\n",
       "      <td>34.5</td>\n",
       "      <td>40.1</td>\n",
       "      <td>13.9</td>\n",
       "      <td>0</td>\n",
       "      <td>1</td>\n",
       "    </tr>\n",
       "    <tr>\n",
       "      <td>199</td>\n",
       "      <td>0</td>\n",
       "      <td>15.6</td>\n",
       "      <td>14.0</td>\n",
       "      <td>31.6</td>\n",
       "      <td>35.3</td>\n",
       "      <td>13.8</td>\n",
       "      <td>0</td>\n",
       "      <td>1</td>\n",
       "    </tr>\n",
       "  </tbody>\n",
       "</table>\n",
       "<p>200 rows × 8 columns</p>\n",
       "</div>"
      ],
      "text/plain": [
       "     Species  FrontalLip  RearWidth  Length  Width  Depth  Male  Female\n",
       "0          0        20.6       14.4    42.8   46.5   19.6     1       0\n",
       "1          1        13.3       11.1    27.8   32.3   11.3     1       0\n",
       "2          0        16.7       14.3    32.3   37.0   14.7     0       1\n",
       "3          1         9.8        8.9    20.4   23.9    8.8     0       1\n",
       "4          0        15.6       14.1    31.0   34.5   13.8     0       1\n",
       "..       ...         ...        ...     ...    ...    ...   ...     ...\n",
       "195        1        12.3       11.0    26.8   31.5   11.4     1       0\n",
       "196        1        12.0       11.1    25.4   29.2   11.0     0       1\n",
       "197        1         8.8        7.7    18.1   20.8    7.4     1       0\n",
       "198        1        16.2       15.2    34.5   40.1   13.9     0       1\n",
       "199        0        15.6       14.0    31.6   35.3   13.8     0       1\n",
       "\n",
       "[200 rows x 8 columns]"
      ]
     },
     "execution_count": 2,
     "metadata": {},
     "output_type": "execute_result"
    }
   ],
   "source": [
    "data = pd.read_csv('crab.txt', sep=\"\\t\")\n",
    "data"
   ]
  },
  {
   "cell_type": "code",
   "execution_count": 104,
   "metadata": {},
   "outputs": [],
   "source": [
    "#SPLITTING TRAINING AND TESTING DATA\n",
    "training_data = data.loc[0:139]\n",
    "testing_data = data.loc[140:200]\n",
    "\n",
    "training_data_t = training_data['Species']\n",
    "training_data_X = training_data.drop(['Species'],axis=1)\n",
    "\n",
    "testing_data_t = testing_data['Species']\n",
    "testing_data_X = testing_data.drop(['Species'],axis=1)"
   ]
  },
  {
   "cell_type": "code",
   "execution_count": 19,
   "metadata": {},
   "outputs": [],
   "source": [
    "#TRAINING SET\n",
    "#Calculating Mean and Covar of class_1 class_0\n",
    "\n",
    "N_class_0,N_class_1 = training_data['Species'].value_counts()"
   ]
  },
  {
   "cell_type": "code",
   "execution_count": 21,
   "metadata": {},
   "outputs": [],
   "source": [
    "#CALCULATING MEAN\n",
    "sum_0,sum_1 = 0,0\n",
    "for i in range(0,140):\n",
    "    if training_data['Species'].loc[i] == 0:\n",
    "        sum_0 = sum_0 + training_data.loc[i]\n",
    "    else:\n",
    "        sum_1 = sum_1 + training_data.loc[i]\n",
    "sum_0 = sum_0.drop(['Species']) \n",
    "sum_1 = sum_1.drop(['Species'])\n",
    "\n",
    "Mean_class_0 = sum_0/N_class_0\n",
    "Mean_class_1 = sum_1/N_class_1"
   ]
  },
  {
   "cell_type": "code",
   "execution_count": 24,
   "metadata": {},
   "outputs": [],
   "source": [
    "#CALCUALTING COVARIANCE \n",
    "temp0 = training_data\n",
    "temp1 = training_data\n",
    "\n",
    "for i in range(0,140):\n",
    "    if temp0['Species'].loc[i] == 1:\n",
    "        temp0 = temp0.drop(i,axis = 0)\n",
    "\n",
    "temp0 = temp0.drop(['Species'],axis =1)  \n",
    "CoVar_class_0 = np.cov(temp0.T) \n",
    "\n",
    "for i in range(0,140):\n",
    "    if temp1['Species'].loc[i] == 0:\n",
    "        temp1 = temp1.drop(i,axis = 0)\n",
    "        \n",
    "temp1 = temp1.drop(['Species'],axis = 1)\n",
    "CoVar_class_1 = np.cov(temp1.T)"
   ]
  },
  {
   "cell_type": "code",
   "execution_count": 25,
   "metadata": {},
   "outputs": [],
   "source": [
    "#Prior_Probability\n",
    "\n",
    "P_C0 = N_class_0/140 \n",
    "P_C1 = N_class_1/140"
   ]
  },
  {
   "cell_type": "code",
   "execution_count": 26,
   "metadata": {},
   "outputs": [
    {
     "ename": "LinAlgError",
     "evalue": "singular matrix",
     "output_type": "error",
     "traceback": [
      "\u001b[0;31m---------------------------------------------------------------------------\u001b[0m",
      "\u001b[0;31mLinAlgError\u001b[0m                               Traceback (most recent call last)",
      "\u001b[0;32m<ipython-input-26-468a5b029d4e>\u001b[0m in \u001b[0;36m<module>\u001b[0;34m\u001b[0m\n\u001b[1;32m      1\u001b[0m \u001b[0;32mfrom\u001b[0m \u001b[0mscipy\u001b[0m\u001b[0;34m.\u001b[0m\u001b[0mstats\u001b[0m \u001b[0;32mimport\u001b[0m \u001b[0mmultivariate_normal\u001b[0m\u001b[0;34m\u001b[0m\u001b[0;34m\u001b[0m\u001b[0m\n\u001b[1;32m      2\u001b[0m \u001b[0;34m\u001b[0m\u001b[0m\n\u001b[0;32m----> 3\u001b[0;31m \u001b[0my0\u001b[0m \u001b[0;34m=\u001b[0m \u001b[0mmultivariate_normal\u001b[0m\u001b[0;34m.\u001b[0m\u001b[0mpdf\u001b[0m\u001b[0;34m(\u001b[0m\u001b[0mtraining_data_X\u001b[0m\u001b[0;34m,\u001b[0m \u001b[0mmean\u001b[0m\u001b[0;34m=\u001b[0m\u001b[0mMean_class_0\u001b[0m\u001b[0;34m,\u001b[0m \u001b[0mcov\u001b[0m\u001b[0;34m=\u001b[0m\u001b[0mCoVar_class_0\u001b[0m\u001b[0;34m)\u001b[0m \u001b[0;31m#P(x|C0)\u001b[0m\u001b[0;34m\u001b[0m\u001b[0;34m\u001b[0m\u001b[0m\n\u001b[0m\u001b[1;32m      4\u001b[0m \u001b[0my1\u001b[0m \u001b[0;34m=\u001b[0m \u001b[0mmultivariate_normal\u001b[0m\u001b[0;34m.\u001b[0m\u001b[0mpdf\u001b[0m\u001b[0;34m(\u001b[0m\u001b[0mtraining_data_X\u001b[0m\u001b[0;34m,\u001b[0m \u001b[0mmean\u001b[0m\u001b[0;34m=\u001b[0m\u001b[0mMean_class_1\u001b[0m\u001b[0;34m,\u001b[0m \u001b[0mcov\u001b[0m\u001b[0;34m=\u001b[0m\u001b[0mCoVar_class_1\u001b[0m\u001b[0;34m)\u001b[0m \u001b[0;31m#P(x|C1)\u001b[0m\u001b[0;34m\u001b[0m\u001b[0;34m\u001b[0m\u001b[0m\n",
      "\u001b[0;32m~/opt/anaconda3/lib/python3.7/site-packages/scipy/stats/_multivariate.py\u001b[0m in \u001b[0;36mpdf\u001b[0;34m(self, x, mean, cov, allow_singular)\u001b[0m\n\u001b[1;32m    519\u001b[0m         \u001b[0mdim\u001b[0m\u001b[0;34m,\u001b[0m \u001b[0mmean\u001b[0m\u001b[0;34m,\u001b[0m \u001b[0mcov\u001b[0m \u001b[0;34m=\u001b[0m \u001b[0mself\u001b[0m\u001b[0;34m.\u001b[0m\u001b[0m_process_parameters\u001b[0m\u001b[0;34m(\u001b[0m\u001b[0;32mNone\u001b[0m\u001b[0;34m,\u001b[0m \u001b[0mmean\u001b[0m\u001b[0;34m,\u001b[0m \u001b[0mcov\u001b[0m\u001b[0;34m)\u001b[0m\u001b[0;34m\u001b[0m\u001b[0;34m\u001b[0m\u001b[0m\n\u001b[1;32m    520\u001b[0m         \u001b[0mx\u001b[0m \u001b[0;34m=\u001b[0m \u001b[0mself\u001b[0m\u001b[0;34m.\u001b[0m\u001b[0m_process_quantiles\u001b[0m\u001b[0;34m(\u001b[0m\u001b[0mx\u001b[0m\u001b[0;34m,\u001b[0m \u001b[0mdim\u001b[0m\u001b[0;34m)\u001b[0m\u001b[0;34m\u001b[0m\u001b[0;34m\u001b[0m\u001b[0m\n\u001b[0;32m--> 521\u001b[0;31m         \u001b[0mpsd\u001b[0m \u001b[0;34m=\u001b[0m \u001b[0m_PSD\u001b[0m\u001b[0;34m(\u001b[0m\u001b[0mcov\u001b[0m\u001b[0;34m,\u001b[0m \u001b[0mallow_singular\u001b[0m\u001b[0;34m=\u001b[0m\u001b[0mallow_singular\u001b[0m\u001b[0;34m)\u001b[0m\u001b[0;34m\u001b[0m\u001b[0;34m\u001b[0m\u001b[0m\n\u001b[0m\u001b[1;32m    522\u001b[0m         \u001b[0mout\u001b[0m \u001b[0;34m=\u001b[0m \u001b[0mnp\u001b[0m\u001b[0;34m.\u001b[0m\u001b[0mexp\u001b[0m\u001b[0;34m(\u001b[0m\u001b[0mself\u001b[0m\u001b[0;34m.\u001b[0m\u001b[0m_logpdf\u001b[0m\u001b[0;34m(\u001b[0m\u001b[0mx\u001b[0m\u001b[0;34m,\u001b[0m \u001b[0mmean\u001b[0m\u001b[0;34m,\u001b[0m \u001b[0mpsd\u001b[0m\u001b[0;34m.\u001b[0m\u001b[0mU\u001b[0m\u001b[0;34m,\u001b[0m \u001b[0mpsd\u001b[0m\u001b[0;34m.\u001b[0m\u001b[0mlog_pdet\u001b[0m\u001b[0;34m,\u001b[0m \u001b[0mpsd\u001b[0m\u001b[0;34m.\u001b[0m\u001b[0mrank\u001b[0m\u001b[0;34m)\u001b[0m\u001b[0;34m)\u001b[0m\u001b[0;34m\u001b[0m\u001b[0;34m\u001b[0m\u001b[0m\n\u001b[1;32m    523\u001b[0m         \u001b[0;32mreturn\u001b[0m \u001b[0m_squeeze_output\u001b[0m\u001b[0;34m(\u001b[0m\u001b[0mout\u001b[0m\u001b[0;34m)\u001b[0m\u001b[0;34m\u001b[0m\u001b[0;34m\u001b[0m\u001b[0m\n",
      "\u001b[0;32m~/opt/anaconda3/lib/python3.7/site-packages/scipy/stats/_multivariate.py\u001b[0m in \u001b[0;36m__init__\u001b[0;34m(self, M, cond, rcond, lower, check_finite, allow_singular)\u001b[0m\n\u001b[1;32m    161\u001b[0m         \u001b[0md\u001b[0m \u001b[0;34m=\u001b[0m \u001b[0ms\u001b[0m\u001b[0;34m[\u001b[0m\u001b[0ms\u001b[0m \u001b[0;34m>\u001b[0m \u001b[0meps\u001b[0m\u001b[0;34m]\u001b[0m\u001b[0;34m\u001b[0m\u001b[0;34m\u001b[0m\u001b[0m\n\u001b[1;32m    162\u001b[0m         \u001b[0;32mif\u001b[0m \u001b[0mlen\u001b[0m\u001b[0;34m(\u001b[0m\u001b[0md\u001b[0m\u001b[0;34m)\u001b[0m \u001b[0;34m<\u001b[0m \u001b[0mlen\u001b[0m\u001b[0;34m(\u001b[0m\u001b[0ms\u001b[0m\u001b[0;34m)\u001b[0m \u001b[0;32mand\u001b[0m \u001b[0;32mnot\u001b[0m \u001b[0mallow_singular\u001b[0m\u001b[0;34m:\u001b[0m\u001b[0;34m\u001b[0m\u001b[0;34m\u001b[0m\u001b[0m\n\u001b[0;32m--> 163\u001b[0;31m             \u001b[0;32mraise\u001b[0m \u001b[0mnp\u001b[0m\u001b[0;34m.\u001b[0m\u001b[0mlinalg\u001b[0m\u001b[0;34m.\u001b[0m\u001b[0mLinAlgError\u001b[0m\u001b[0;34m(\u001b[0m\u001b[0;34m'singular matrix'\u001b[0m\u001b[0;34m)\u001b[0m\u001b[0;34m\u001b[0m\u001b[0;34m\u001b[0m\u001b[0m\n\u001b[0m\u001b[1;32m    164\u001b[0m         \u001b[0ms_pinv\u001b[0m \u001b[0;34m=\u001b[0m \u001b[0m_pinv_1d\u001b[0m\u001b[0;34m(\u001b[0m\u001b[0ms\u001b[0m\u001b[0;34m,\u001b[0m \u001b[0meps\u001b[0m\u001b[0;34m)\u001b[0m\u001b[0;34m\u001b[0m\u001b[0;34m\u001b[0m\u001b[0m\n\u001b[1;32m    165\u001b[0m         \u001b[0mU\u001b[0m \u001b[0;34m=\u001b[0m \u001b[0mnp\u001b[0m\u001b[0;34m.\u001b[0m\u001b[0mmultiply\u001b[0m\u001b[0;34m(\u001b[0m\u001b[0mu\u001b[0m\u001b[0;34m,\u001b[0m \u001b[0mnp\u001b[0m\u001b[0;34m.\u001b[0m\u001b[0msqrt\u001b[0m\u001b[0;34m(\u001b[0m\u001b[0ms_pinv\u001b[0m\u001b[0;34m)\u001b[0m\u001b[0;34m)\u001b[0m\u001b[0;34m\u001b[0m\u001b[0;34m\u001b[0m\u001b[0m\n",
      "\u001b[0;31mLinAlgError\u001b[0m: singular matrix"
     ]
    }
   ],
   "source": [
    "from scipy.stats import multivariate_normal\n",
    "\n",
    "y0 = multivariate_normal.pdf(training_data_X, mean=Mean_class_0, cov=CoVar_class_0) #P(x|C0)\n",
    "y1 = multivariate_normal.pdf(training_data_X, mean=Mean_class_1, cov=CoVar_class_1) #P(x|C1)"
   ]
  },
  {
   "cell_type": "markdown",
   "metadata": {},
   "source": [
    "\n",
    "''' AFTER CAREFUL ANALYSIS OF THE INPUT MATRICES I NOTICED THAT \n",
    "FEMALE AND MALE FEATURES CONVEY THE SAME DATA HENCE THE PDF FUNCTION GIVES US \n",
    "A SINGULARITY ERROR'''\n",
    "\n",
    "'''TO FIX THIS I DECIDED TO DROP THE FEMALE FEATURE SET'''\n"
   ]
  },
  {
   "cell_type": "markdown",
   "metadata": {},
   "source": [
    "#~~~~~~~~~~~~~~~~~~~~~~~~~~~~~~~~~~~~~~~~~~~~~~~~~~~~~~~~~~~~~~~~~~~~~~~~~~~~~~~~~~~~~~~~~~~~~~~~~~~~~~~~~~~~~~~~~~~#"
   ]
  },
  {
   "cell_type": "code",
   "execution_count": 29,
   "metadata": {},
   "outputs": [],
   "source": [
    "training_data = data.loc[0:139]\n",
    "testing_data = data.loc[140:200]\n",
    "\n",
    "training_data_t = training_data['Species']\n",
    "training_data_X = training_data.drop(['Species','Female'],axis=1)\n",
    "\n",
    "testing_data_t = testing_data['Species']\n",
    "testing_data_X = testing_data.drop(['Species','Female'],axis=1)\n",
    "\n",
    "#Dropped Female as Female and Male are simply the negation of each other."
   ]
  },
  {
   "cell_type": "code",
   "execution_count": 30,
   "metadata": {},
   "outputs": [],
   "source": [
    "#TRAINING SET\n",
    "#Calculating Mean and Covar of class_1 class_0\n",
    "\n",
    "N_class_0,N_class_1 = training_data['Species'].value_counts()\n"
   ]
  },
  {
   "cell_type": "code",
   "execution_count": 31,
   "metadata": {},
   "outputs": [],
   "source": [
    "sum_0,sum_1 = 0,0\n",
    "for i in range(0,140):\n",
    "    if training_data['Species'].loc[i] == 0:\n",
    "        sum_0 = sum_0 + training_data.loc[i]\n",
    "    else:\n",
    "        sum_1 = sum_1 + training_data.loc[i]\n",
    "sum_0 = sum_0.drop(['Species','Female']) \n",
    "sum_1 = sum_1.drop(['Species','Female'])\n"
   ]
  },
  {
   "cell_type": "code",
   "execution_count": 32,
   "metadata": {},
   "outputs": [],
   "source": [
    "Mean_class_0 = sum_0/N_class_0\n",
    "Mean_class_1 = sum_1/N_class_1"
   ]
  },
  {
   "cell_type": "code",
   "execution_count": 33,
   "metadata": {},
   "outputs": [],
   "source": [
    "temp0 = training_data\n",
    "temp1 = training_data\n",
    "\n",
    "for i in range(0,140):\n",
    "    if temp0['Species'].loc[i] == 1:\n",
    "        temp0 = temp0.drop(i,axis = 0)\n",
    "\n",
    "temp0 = temp0.drop(['Species','Female'],axis =1)  \n",
    "CoVar_class_0 = np.cov(temp0.T) \n",
    "\n",
    "for i in range(0,140):\n",
    "    if temp1['Species'].loc[i] == 0:\n",
    "        temp1 = temp1.drop(i,axis = 0)\n",
    "        \n",
    "temp1 = temp1.drop(['Species','Female'],axis = 1)\n",
    "CoVar_class_1 = np.cov(temp1.T)"
   ]
  },
  {
   "cell_type": "code",
   "execution_count": 34,
   "metadata": {},
   "outputs": [],
   "source": [
    "#Prior_Probability\n",
    "\n",
    "P_C0 = N_class_0/140 \n",
    "P_C1 = N_class_1/140"
   ]
  },
  {
   "cell_type": "code",
   "execution_count": 35,
   "metadata": {},
   "outputs": [],
   "source": [
    "from scipy.stats import multivariate_normal\n",
    "\n",
    "y0 = multivariate_normal.pdf(training_data_X, mean=Mean_class_0, cov=CoVar_class_0) #P(x|C0)\n",
    "y1 = multivariate_normal.pdf(training_data_X, mean=Mean_class_1, cov=CoVar_class_1) #P(x|C1)\n"
   ]
  },
  {
   "cell_type": "code",
   "execution_count": 49,
   "metadata": {},
   "outputs": [
    {
     "data": {
      "text/plain": [
       "0      True\n",
       "1      True\n",
       "2      True\n",
       "3      True\n",
       "4      True\n",
       "       ... \n",
       "135    True\n",
       "136    True\n",
       "137    True\n",
       "138    True\n",
       "139    True\n",
       "Name: Species, Length: 140, dtype: bool"
      ]
     },
     "execution_count": 49,
     "metadata": {},
     "output_type": "execute_result"
    }
   ],
   "source": [
    "#Posterior probability \n",
    "posterior_0 = (y0*P_C0)/(y1*P_C1 + y0*P_C0)\n",
    "posterior_1 = (y1*P_C1)/(y1*P_C1 + y0*P_C0)\n",
    "o_p = posterior_0<posterior_1\n",
    "o_p == training_data_t"
   ]
  },
  {
   "cell_type": "code",
   "execution_count": 37,
   "metadata": {},
   "outputs": [],
   "source": [
    "#Test Data\n",
    "\n",
    "y0_newPoint = multivariate_normal.pdf(testing_data_X, mean=Mean_class_0, cov=CoVar_class_0) #P(x|C0)\n",
    "\n",
    "y1_newPoint = multivariate_normal.pdf(testing_data_X, mean=Mean_class_1, cov=CoVar_class_1) #P(x|C1)"
   ]
  },
  {
   "cell_type": "code",
   "execution_count": 54,
   "metadata": {
    "scrolled": true
   },
   "outputs": [
    {
     "data": {
      "text/plain": [
       "140    True\n",
       "141    True\n",
       "142    True\n",
       "143    True\n",
       "144    True\n",
       "145    True\n",
       "146    True\n",
       "147    True\n",
       "148    True\n",
       "149    True\n",
       "150    True\n",
       "151    True\n",
       "152    True\n",
       "153    True\n",
       "154    True\n",
       "155    True\n",
       "156    True\n",
       "157    True\n",
       "158    True\n",
       "159    True\n",
       "160    True\n",
       "161    True\n",
       "162    True\n",
       "163    True\n",
       "164    True\n",
       "165    True\n",
       "166    True\n",
       "167    True\n",
       "168    True\n",
       "169    True\n",
       "170    True\n",
       "171    True\n",
       "172    True\n",
       "173    True\n",
       "174    True\n",
       "175    True\n",
       "176    True\n",
       "177    True\n",
       "178    True\n",
       "179    True\n",
       "180    True\n",
       "181    True\n",
       "182    True\n",
       "183    True\n",
       "184    True\n",
       "185    True\n",
       "186    True\n",
       "187    True\n",
       "188    True\n",
       "189    True\n",
       "190    True\n",
       "191    True\n",
       "192    True\n",
       "193    True\n",
       "194    True\n",
       "195    True\n",
       "196    True\n",
       "197    True\n",
       "198    True\n",
       "199    True\n",
       "Name: Species, dtype: bool"
      ]
     },
     "execution_count": 54,
     "metadata": {},
     "output_type": "execute_result"
    }
   ],
   "source": [
    "posterior_0_test = (y0_newPoint*P_C0)/(y1_newPoint*P_C1 + y0_newPoint*P_C0)\n",
    "posterior_1_test = (y1_newPoint*P_C1)/(y1_newPoint*P_C1 + y0_newPoint*P_C0)\n",
    "o_p_test = posterior_0_test<posterior_1_test\n",
    "o_p_test == testing_data_t"
   ]
  },
  {
   "cell_type": "markdown",
   "metadata": {},
   "source": [
    "#### CONFUSION MATRIX FOR TRAINING SET"
   ]
  },
  {
   "cell_type": "code",
   "execution_count": 102,
   "metadata": {},
   "outputs": [
    {
     "name": "stderr",
     "output_type": "stream",
     "text": [
      "/Users/rishablokray/opt/anaconda3/lib/python3.7/site-packages/ipykernel_launcher.py:3: DeprecationWarning: In future, it will be an error for 'np.bool_' scalars to be interpreted as an index\n",
      "  This is separate from the ipykernel package so we can avoid doing imports until\n"
     ]
    },
    {
     "data": {
      "text/plain": [
       "array([[72,  0],\n",
       "       [ 0, 68]])"
      ]
     },
     "execution_count": 102,
     "metadata": {},
     "output_type": "execute_result"
    }
   ],
   "source": [
    "m = [[0] * 2 for i in range(2)]\n",
    "for pred, exp in zip(o_p, training_data_t):\n",
    "    m[pred][exp] += 1\n",
    "np.array(m)"
   ]
  },
  {
   "cell_type": "markdown",
   "metadata": {},
   "source": [
    "#### CONFUSION MATRIX FOR TESTING SET"
   ]
  },
  {
   "cell_type": "code",
   "execution_count": 101,
   "metadata": {},
   "outputs": [
    {
     "name": "stderr",
     "output_type": "stream",
     "text": [
      "/Users/rishablokray/opt/anaconda3/lib/python3.7/site-packages/ipykernel_launcher.py:3: DeprecationWarning: In future, it will be an error for 'np.bool_' scalars to be interpreted as an index\n",
      "  This is separate from the ipykernel package so we can avoid doing imports until\n"
     ]
    },
    {
     "data": {
      "text/plain": [
       "array([[28,  0],\n",
       "       [ 0, 32]])"
      ]
     },
     "execution_count": 101,
     "metadata": {},
     "output_type": "execute_result"
    }
   ],
   "source": [
    "m = [[0] * 2 for i in range(2)]\n",
    "for pred, exp in zip(o_p_test, testing_data_t):\n",
    "    m[pred][exp] += 1\n",
    "np.array(m)"
   ]
  },
  {
   "cell_type": "markdown",
   "metadata": {},
   "source": [
    "# K-N-N"
   ]
  },
  {
   "cell_type": "code",
   "execution_count": 266,
   "metadata": {},
   "outputs": [],
   "source": [
    "#Importing libraries and creating training and testing data sets.\n",
    "from math import sqrt\n",
    "from sklearn import preprocessing\n",
    "\n",
    "\n",
    "temp = training_data['Species']\n",
    "training_data_X = training_data.drop(['Species','Female'],1) \n",
    "training_data_X['Species'] = temp\n",
    "\n",
    "\n",
    "\n",
    "\n",
    "temp2 = testing_data['Species']\n",
    "testing_data_X = testing_data.drop(['Species','Female'],1) \n",
    "testing_data_X['Species'] = temp2\n",
    "\n"
   ]
  },
  {
   "cell_type": "code",
   "execution_count": 261,
   "metadata": {},
   "outputs": [],
   "source": [
    "#Using Library to Normalize data.\n",
    "from sklearn.preprocessing import StandardScaler\n",
    "scaler = StandardScaler()\n",
    "scaler.fit(training_data_X)\n",
    "\n",
    "X_train = scaler.transform(training_data_X)\n",
    "X_test = scaler.transform(testing_data_X)"
   ]
  },
  {
   "cell_type": "code",
   "execution_count": 324,
   "metadata": {},
   "outputs": [
    {
     "name": "stdout",
     "output_type": "stream",
     "text": [
      "Confusion matrix for n = 1\n",
      "[[25  4]\n",
      " [ 3 28]]\n",
      "Accuracy of Classifier for n = 1\n",
      "0.8833333333333333\n",
      "Confusion matrix for n = 2\n",
      "[[25  7]\n",
      " [ 3 25]]\n",
      "Accuracy of Classifier for n = 2\n",
      "0.8333333333333334\n",
      "Confusion matrix for n = 3\n",
      "[[21  4]\n",
      " [ 7 28]]\n",
      "Accuracy of Classifier for n = 3\n",
      "0.8166666666666667\n",
      "Confusion matrix for n = 4\n",
      "[[25  9]\n",
      " [ 3 23]]\n",
      "Accuracy of Classifier for n = 4\n",
      "0.8\n",
      "Confusion matrix for n = 5\n",
      "[[23  6]\n",
      " [ 5 26]]\n",
      "Accuracy of Classifier for n = 5\n",
      "0.8166666666666667\n",
      "Confusion matrix for n = 6\n",
      "[[25  7]\n",
      " [ 3 25]]\n",
      "Accuracy of Classifier for n = 6\n",
      "0.8333333333333334\n",
      "Confusion matrix for n = 7\n",
      "[[19  4]\n",
      " [ 9 28]]\n",
      "Accuracy of Classifier for n = 7\n",
      "0.7833333333333333\n",
      "Confusion matrix for n = 8\n",
      "[[22  8]\n",
      " [ 6 24]]\n",
      "Accuracy of Classifier for n = 8\n",
      "0.7666666666666667\n",
      "Confusion matrix for n = 9\n",
      "[[14  7]\n",
      " [14 25]]\n",
      "Accuracy of Classifier for n = 9\n",
      "0.65\n",
      "Confusion matrix for n = 10\n",
      "[[20  9]\n",
      " [ 8 23]]\n",
      "Accuracy of Classifier for n = 10\n",
      "0.7166666666666667\n",
      "Confusion matrix for n = 11\n",
      "[[16  8]\n",
      " [12 24]]\n",
      "Accuracy of Classifier for n = 11\n",
      "0.6666666666666666\n",
      "Confusion matrix for n = 12\n",
      "[[18 10]\n",
      " [10 22]]\n",
      "Accuracy of Classifier for n = 12\n",
      "0.6666666666666666\n",
      "Confusion matrix for n = 13\n",
      "[[15 10]\n",
      " [13 22]]\n",
      "Accuracy of Classifier for n = 13\n",
      "0.6166666666666667\n",
      "Confusion matrix for n = 14\n",
      "[[18 11]\n",
      " [10 21]]\n",
      "Accuracy of Classifier for n = 14\n",
      "0.65\n"
     ]
    }
   ],
   "source": [
    "# Calculate the Euclidean distance between two input vectors(Row1 is from the testing set and Row2 is from trainig set)\n",
    "def euclidean_distance(row1, row2):\n",
    "\tdistance = 0.0\n",
    "\tfor i in range(len(row1)-1):\n",
    "\t\tdistance += (row1[i] - row2[i])**2\n",
    "\treturn sqrt(distance)\n",
    " \n",
    "# Locating the  similar neighbors\n",
    "def get_neighbors(train, test_row, num_neighbors):\n",
    "\tdistances = list()\n",
    "\tfor train_row in train:\n",
    "\t\tdist = euclidean_distance(test_row, train_row)\n",
    "\t\tdistances.append((train_row, dist))\n",
    "\tdistances.sort(key=lambda tup: tup[1])\n",
    "\tneighbors = list()\n",
    "\tfor i in range(num_neighbors):\n",
    "\t\tneighbors.append(distances[i][0])\n",
    "\treturn neighbors\n",
    " \n",
    "# Make a prediction with neighbors\n",
    "def predict_classification(train, test_row, num_neighbors):\n",
    "\tneighbors = get_neighbors(train, test_row, num_neighbors)\n",
    "\toutput_values = [row[-1] for row in neighbors]\n",
    "\tprediction = max(set(output_values), key=output_values.count)\n",
    "\treturn prediction\n",
    " \n",
    "def crossvalidation(nn,predictions):\n",
    "    # predict the label\n",
    "    for row in X_test:\n",
    "        predictions.append(predict_classification(X_train, row, nn))\n",
    "    return predictions\n",
    "\n",
    "def calc_confMatrix(nn,predictions):\n",
    "    m = [[0] * 2 for i in range(2)]\n",
    "    for pred, exp in zip(predictions, testing_data_t):\n",
    "        m[int(pred)][exp] += 1\n",
    "    print(\"Confusion matrix for n =\",nn)\n",
    "    con_mat = np.array(m)\n",
    "    print(con_mat)\n",
    "    print(\"Accuracy of Classifier for n =\",nn)\n",
    "    total_accuracy = (con_mat[0, 0] + con_mat[1, 1]) / float(np.sum(con_mat))\n",
    "    graph.append(total_accuracy)\n",
    "    print(total_accuracy)\n",
    "    \n",
    "    \n",
    "graph = list()\n",
    "for nn in range(1,15):    \n",
    "    predictions = list()\n",
    "    predictions = crossvalidation(nn,predictions)\n",
    "    predictions = np.array(predictions)\n",
    "    predictions[predictions<0] =0 #Denormalizing the predictions to 0 and 1\n",
    "    predictions[predictions>0] =1 #Denormalizing the predictions to 0 and 1\n",
    "    predictions = list(predictions)\n",
    "    calc_confMatrix(nn,predictions)\n",
    "\n",
    "\n",
    "\n",
    "    \n",
    "\n"
   ]
  },
  {
   "cell_type": "markdown",
   "metadata": {},
   "source": [
    "#### Graph plot as we increase the values of knn neighbours"
   ]
  },
  {
   "cell_type": "code",
   "execution_count": 326,
   "metadata": {},
   "outputs": [
    {
     "data": {
      "text/plain": [
       "[<matplotlib.lines.Line2D at 0x1a29661f50>]"
      ]
     },
     "execution_count": 326,
     "metadata": {},
     "output_type": "execute_result"
    },
    {
     "data": {
      "image/png": "[encoded data removed]",
      "text/plain": [
       "<Figure size 432x288 with 1 Axes>"
      ]
     },
     "metadata": {
      "needs_background": "light"
     },
     "output_type": "display_data"
    }
   ],
   "source": [
    "plt.plot(range(1,15),graph)"
   ]
  },
  {
   "cell_type": "markdown",
   "metadata": {},
   "source": [
    "#### Confusion matrix for the testing set N=6"
   ]
  },
  {
   "cell_type": "code",
   "execution_count": 329,
   "metadata": {},
   "outputs": [
    {
     "data": {
      "text/plain": [
       "'Confusion matrix for n = 6\\n   [[25  7]\\n   [ 3 25]]\\n   Accuracy of Classifier for n = 6\\n   0.8333333333333334 '"
      ]
     },
     "execution_count": 329,
     "metadata": {},
     "output_type": "execute_result"
    }
   ],
   "source": [
    "'''Confusion matrix for n = 6\n",
    "   [[25  7]\n",
    "   [ 3 25]]\n",
    "   Accuracy of Classifier for n = 6\n",
    "   0.8333333333333334 '''"
   ]
  },
  {
   "cell_type": "markdown",
   "metadata": {},
   "source": [
    "AS THE ACCURACY IS HIGH FOR N = 6 WE CHOOSE KNN with N = 6"
   ]
  },
  {
   "cell_type": "markdown",
   "metadata": {},
   "source": [
    "#### I would prefer the KNN classifier over the probability generative model \n",
    "#### as in the probablility model we have to assume a gaussian pdf distribution \n",
    "#### and the pdfs of the two classes is very less even though the posteriori is predicted perfectly \n",
    "#### this can lead to false positives. While a sytem is expected to let the user know that it is not sure of the output \n",
    "#### rather than give a false prediction."
   ]
  }
 ],
 "metadata": {
  "kernelspec": {
   "display_name": "Python 3",
   "language": "python",
   "name": "python3"
  },
  "language_info": {
   "codemirror_mode": {
    "name": "ipython",
    "version": 3
   },
   "file_extension": ".py",
   "mimetype": "text/x-python",
   "name": "python",
   "nbconvert_exporter": "python",
   "pygments_lexer": "ipython3",
   "version": "3.7.4"
  }
 },
 "nbformat": 4,
 "nbformat_minor": 2
}
