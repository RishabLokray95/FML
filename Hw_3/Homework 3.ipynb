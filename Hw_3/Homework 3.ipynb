{
 "cells": [
  {
   "cell_type": "markdown",
   "metadata": {},
   "source": [
    "# Homework 3 - Data Set for the Final Project\n",
    "\n",
    "This is a project group assignment. **No more than 4 individuals.**\n",
    "\n",
    "**Due: Wednesday, April 1, 11:59 PM**\n",
    "\n",
    "## Grading Rubric\n",
    "\n",
    "1. **Problem 1 (20 pts)**\n",
    "    * **Group Page Canvas (20 pts):** Give your group a name and creta a group page in Canvas with your respective group name.\n",
    "\n",
    "2. **Problem 3 (80 pts)** \n",
    "    * **Data folder (25 pts):** You've uploaded a compressed folder with with 10 pictures of each handwritten digit.\n",
    "\n",
    "    * **Numpy data object (10 pts):** You've uploaded your Numpy data object.\n",
    "\n",
    "    * **Numy labels object (10 pts):** You've uploaded your Numpy labels object.\n",
    "\n",
    "**Total: 100 pts**"
   ]
  },
  {
   "cell_type": "markdown",
   "metadata": {},
   "source": [
    "# Problem 1\n",
    "\n",
    "Create a Canvas group. **Only one member should create the Canvas group with your selected team name. All the other team members should join the group once it is created.** Do not create more than one Canvas group for each team.\n",
    "\n",
    "In your group Canvas, you can upload files to share with your team members. (This [FAQs list](https://elearning.ufl.edu/e-learning-basics/uf-e-learning-faqs/) may be helpful.)\n",
    "\n",
    "I encourage you to use Zoom Conference meetings to meet regularly with your team members. You can create conference meetings here: https://ufl.zoom.us/."
   ]
  },
  {
   "cell_type": "markdown",
   "metadata": {},
   "source": [
    "# Problem 2\n",
    "\n",
    "For this question you will be collecting part of data set that will be used for your final project.\n",
    "\n",
    "1. You are to handwrite the digits '0', '1', '2', '3', '4', '5', '6', '7', '8', and '9' **ten times each**. You should write these digits on clean, white printer paper. It is preferred that you use a regular Sharpie.\n",
    "\n",
    "2. After writting the digits, you are to take pictures of each one individual (you can use your cell-phone). Save all of these images in a single data folder each one title with the number digit they are depicting.\n",
    "\n",
    "3. You will then crop the image (this can either be using your cell-phone or computer). Try to center and focus the digits as much as possible. Here's are some examples:"
   ]
  },
  {
   "cell_type": "markdown",
   "metadata": {
    "cell_style": "center"
   },
   "source": [
    "<div><img src=\"examples.png\", width=\"600\"><!div>"
   ]
  },
  {
   "cell_type": "markdown",
   "metadata": {},
   "source": [
    "4. Using the code below and the data folder you have created in 2, run the provided code to: (1) resize the images to $300\\times 300$, (2) save your images in a numpy array in a pre-defined format, and (3) create your labels array. This code will create the numpy arrays called \"data.npy\" and \"labels.npy\". \n",
    "\n",
    "To receive full credit for this question, you should submit to Canvas a compressed folder of your handwritten digits (100 total) and both numpy arrays (\"data.npy\" and \"labels.npy\")."
   ]
  },
  {
   "cell_type": "code",
   "execution_count": 1,
   "metadata": {},
   "outputs": [
    {
     "ename": "ModuleNotFoundError",
     "evalue": "No module named 'cv2'",
     "output_type": "error",
     "traceback": [
      "\u001b[0;31m---------------------------------------------------------------------------\u001b[0m",
      "\u001b[0;31mModuleNotFoundError\u001b[0m                       Traceback (most recent call last)",
      "\u001b[0;32m<ipython-input-1-aaf230d74c51>\u001b[0m in \u001b[0;36m<module>\u001b[0;34m\u001b[0m\n\u001b[1;32m      5\u001b[0m \u001b[0;32mimport\u001b[0m \u001b[0mos\u001b[0m\u001b[0;34m\u001b[0m\u001b[0;34m\u001b[0m\u001b[0m\n\u001b[1;32m      6\u001b[0m \u001b[0;32mimport\u001b[0m \u001b[0mmatplotlib\u001b[0m\u001b[0;34m.\u001b[0m\u001b[0mimage\u001b[0m \u001b[0;32mas\u001b[0m \u001b[0mmpimg\u001b[0m\u001b[0;34m\u001b[0m\u001b[0;34m\u001b[0m\u001b[0m\n\u001b[0;32m----> 7\u001b[0;31m \u001b[0;32mimport\u001b[0m \u001b[0mcv2\u001b[0m\u001b[0;34m\u001b[0m\u001b[0;34m\u001b[0m\u001b[0m\n\u001b[0m\u001b[1;32m      8\u001b[0m \u001b[0;32mfrom\u001b[0m \u001b[0mskimage\u001b[0m\u001b[0;34m.\u001b[0m\u001b[0mcolor\u001b[0m \u001b[0;32mimport\u001b[0m \u001b[0mrgb2gray\u001b[0m\u001b[0;34m\u001b[0m\u001b[0;34m\u001b[0m\u001b[0m\n",
      "\u001b[0;31mModuleNotFoundError\u001b[0m: No module named 'cv2'"
     ]
    }
   ],
   "source": [
    "import numpy as np\n",
    "import matplotlib.pyplot as plt\n",
    "%matplotlib inline\n",
    "\n",
    "import os\n",
    "import matplotlib.image as mpimg\n",
    "import cv2\n",
    "from skimage.color import rgb2gray"
   ]
  },
  {
   "cell_type": "code",
   "execution_count": 2,
   "metadata": {},
   "outputs": [
    {
     "name": "stdout",
     "output_type": "stream",
     "text": [
      "(0,) (0,)\n"
     ]
    }
   ],
   "source": [
    "# Folder location where all images are located\n",
    "mydir = '/Users/rishablokray/Desktop/DATA'\n",
    "\n",
    "labels = []\n",
    "data = []\n",
    "for file in os.listdir(mydir):\n",
    "    # Will only read .jpg files\n",
    "    if file.endswith(\".jpg\"): \n",
    "        filename = mydir+'/'+file\n",
    "        x = mpimg.imread(filename)\n",
    "        img = rgb2gray(x)\n",
    "        resized_img = cv2.resize(img, (300, 300))\n",
    "        data.append((resized_img))\n",
    "        plt.imshow(x);plt.show()\n",
    "        l = input('Type the digit being displayed in this image and then press Enter...\\n')\n",
    "        labels.append(l)\n",
    "\n",
    "print(np.shape(data), np.shape(labels))\n",
    "\n",
    "# Saves the files to your current directory\n",
    "np.save('data', data)\n",
    "np.save('labels', labels)"
   ]
  },
  {
   "cell_type": "code",
   "execution_count": null,
   "metadata": {},
   "outputs": [],
   "source": []
  }
 ],
 "metadata": {
  "kernelspec": {
   "display_name": "Python 3",
   "language": "python",
   "name": "python3"
  },
  "language_info": {
   "codemirror_mode": {
    "name": "ipython",
    "version": 3
   },
   "file_extension": ".py",
   "mimetype": "text/x-python",
   "name": "python",
   "nbconvert_exporter": "python",
   "pygments_lexer": "ipython3",
   "version": "3.7.6"
  },
  "latex_envs": {
   "LaTeX_envs_menu_present": true,
   "autoclose": true,
   "autocomplete": true,
   "bibliofile": "biblio.bib",
   "cite_by": "apalike",
   "current_citInitial": 1,
   "eqLabelWithNumbers": true,
   "eqNumInitial": 1,
   "hotkeys": {
    "equation": "Ctrl-E",
    "itemize": "Ctrl-I"
   },
   "labels_anchors": false,
   "latex_user_defs": false,
   "report_style_numbering": false,
   "user_envs_cfg": false
  }
 },
 "nbformat": 4,
 "nbformat_minor": 2
}
