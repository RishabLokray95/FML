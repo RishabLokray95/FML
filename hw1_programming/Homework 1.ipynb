{
 "cells": [
  {
   "cell_type": "markdown",
   "metadata": {},
   "source": [
    "# Homework 1\n",
    "\n",
    "**Due: Friday, January 24, 11:59 PM**\n",
    "\n",
    "* This is an individual assignment.\n",
    "\n",
    "## Grading Rubric\n",
    "\n",
    "1. **Jupyter Notebook (5 pts):** You have created your Jupyter Notebook using the provided instructions.\n",
    "\n",
    "2. **Pandas (5 pts):** You've successfully imported the data using the ```pandas``` library.\n",
    "\n",
    "3. **Exploratory Data Analysis (40 pts):** You have include the auto-correlation plot, one plot for each feature vs the count of total bike rentals and a paragraph discussion about the predictive value of each feature (total of 16).\n",
    "\n",
    "4. **Pre-processing (10 pts):** You have included paragraph discussion addressing which features you have decided to not use and why OR which features are not in \"ready-to-use\" mode and your proposed transformation and subsequent usage.\n",
    "\n",
    "5. **Model Representation and Prediction (20):** You have coded up the implementation of both MLE and MAP for the selected features and desired target values.\n",
    "\n",
    "6. **Model Performance (20):** You have included all summary statistics and the required plots for both MLE and MAP estimators.\n",
    "\n",
    "**Total: 100 pts**"
   ]
  },
  {
   "cell_type": "markdown",
   "metadata": {},
   "source": [
    "# Homework Description\n",
    "\n",
    "A [bicycle-sharing system](https://en.wikipedia.org/wiki/Bicycle-sharing_system) is a service in which users can rent/use bicycles available for shared use on a short term basis for a price or free. Currently, there are over 500 bike-sharing programs around the world. Such systems usually aim to reduce congestion, noise, and air pollution by providing free/affordable access to bicycles for short-distance trips in an urban area as opposed to motorized vehicles. The number of users on any given day can vary greatly for such systems. The ability to predict the number of hourly users can allow the entities (businesses/governments) that oversee these systems to manage them in a more efficient and cost-effective manner. \n",
    "\n",
    "Our goal is to use and optimize Machine Learning models that effectively *predict* the number of ride-sharing bikes that will be used in any given 1 hour time-period, using available information about that time/day."
   ]
  },
  {
   "cell_type": "markdown",
   "metadata": {},
   "source": [
    "## Data Set\n",
    "\n",
    "Bike-sharing rental process is highly correlated to the environmental and seasonal settings. For instance, weather conditions,\n",
    "precipitation, day of week, season, hour of the day, etc. can affect the rental behaviors. The data set we are using is from [University of Porto’s Machine Learning Repository](https://archive.ics.uci.edu/ml/datasets/bike+sharing+dataset#). The core data set is related to the two-year historical log corresponding to years 2011 and 2012 from Capital Bikeshare system, Washington D.C., USA which is publicly available in http://capitalbikeshare.com/system-data.\n",
    "\n",
    "* I have attached the data set files to this assignment for your convenience. Please make sure you download the files: **\"hour.csv\"** and **\"Readme.txt\"**.\n",
    "\n",
    "The data set is a csv file (**\"hour.csv\"**) with information from 17,379 hours over 731 days with 16 features (information categories) for each hour. The features are:\n",
    "* **instant** - Record index\n",
    "* **dteday** - Date\n",
    "* **season** - Season (1:spring, 2:summer, 3:fall, 4:winter)\n",
    "* **yr** Year (0: 2011, 1:2012)\n",
    "* **mnth** - Month (1 to 12)\n",
    "* **hr** - Hour (0 to 23)\n",
    "* **holiday** - Holiday : whether that day is holiday or not\n",
    "* **weekday** - Weekday : day of the week\n",
    "* **workingday** - Working-day : if day is neither weekend nor holiday , value is 1. Otherwise 0\n",
    "* **weathersit** - Weather situation :\n",
    "    * 1: Clear, Few clouds, Partly cloudy, Partly cloudy\n",
    "    * 2: Mist + Cloudy, Mist + Broken clouds, Mist + Few clouds, Mist\n",
    "    * 3: Light Snow, Light Rain + Thunderstorm + Scattered clouds, Light Rain + Scattered clouds\n",
    "    * 4: Heavy Rain + Ice Pallets + Thunderstorm + Mist, Snow + Fog\n",
    "* **temp** - Normalized temperature in Celsius. Values are divided to 41 (max)\n",
    "* **atemp** - Normalized feeling temperature in Celsius. Values are divided to 50 (max)\n",
    "* **hum** - Normalized humidity. The values are divided to 100 (max)\n",
    "* **windspeed** - Normalized wind speed. The values are divided to 67 (max)\n",
    "* **casual** - Count of casual users\n",
    "* **registered** - Count of registered users\n",
    "* **cnt** - Count of total rental bikes including both casual and registered\n",
    "\n",
    "Note that some features have continuous values whereas others have discrete values.\n",
    "\n",
    "Our goal is to use and optimize Machine Learning models that effectively *predict* the number of ride-sharing bikes (variable **cnt**) that will be used in any given 1 hour time-period, using the available feature information.\n"
   ]
  },
  {
   "cell_type": "markdown",
   "metadata": {},
   "source": [
    "## Assignment\n",
    "\n",
    "To receive full marks in this assignment, please address the following directions and questions:\n",
    "\n",
    "1. **Jupyter Notebook.** Create a Jupyter Notebook with a Python 3+ kernel.\n",
    "    * Name it \"Homework01_[FirstName LastName]\"\n",
    "    * Add a markdown cell with a 1st-level Heading titled \"Homework 01\"\n",
    "    * As necessary, create new markdown cells to include comments and reasoning comments.\n",
    "\n",
    "2. **Pandas.** Use the library ```pandas``` to import the file \"hour.csv\". You may use the function ```read_csv``` from the ```pandas``` library.\n",
    "    * Suppose you loaded your dataframe to a variable called *data*. If you want to access one column of that matrix (say feature *hum*), then you can write ```data['hum']```. This will also be a dataframe. If you want to do operations and plotting this variable, you will have to transform it to an array first: ```np.array(data['hum'])```.\n",
    "    * If you want to access more than one column in the dataframe *data*, you can do: ```data[['temp','hum','cnt']]```.\n",
    "\n",
    "3. **Exploratory Data Analysis.** Compute and plot the auto-correlation matrix of the provided features and provide a discussion of your observations. Perform further exploratory data analysis in order to understand the predictive power that each feature has to predict the target variable **cnt**. You should comment on the predictive value of each feature.\n",
    "    * From the library ```seaborn``` you can utilize the function ```heatmap``` (info [here](https://seaborn.pydata.org/generated/seaborn.heatmap.html)) to plot the auto-correlation matrix.\n",
    "    * The library ```seaborn``` has great plotting tools, you may find these usefuls: ```pairplot``` and ```jointplot```.\n",
    "\n",
    "4. **Pre-processing.** Are there any features that can be discarded? Which features would you throw out and why? Could you transform that feature into something useful? \n",
    "\n",
    "5. **Model Representation and Prediction.** Find the Maximum Likelihood (MLE) and Maximum A Posteriori (MAP) estimates of the regression coefficients. For the MAP estimator, consider the L2-norm penalty on the parameters.\n",
    "    * Provide any justification comments in a markdown cell for your choice of parameter values.\n",
    "\n",
    "6. **Model Performance.** Include a scatter plot of the MLE estimation for the count of total rental bikes and the true count of total rental bikes. Include another scatter plot using the MAP estimator. For both MLE and MAP estimators compute:\n",
    "    * Mean prediction error\n",
    "    * Median prediction error\n",
    "    * Q-Q plot\n",
    "    * r-squared value (using function ```r2_score```)\n",
    "    * Which model performs best and why?"
   ]
  },
  {
   "cell_type": "markdown",
   "metadata": {},
   "source": [
    "## Submit your Solution\n",
    "\n",
    "Create a PDF of the notebook with your solutions. When you are all done, the best way to do this is:\n",
    "\n",
    "1. Restart and rerun your notebook using the \"Kernel->Restart & Run All\" menu item. (Make sure there are no errors.)\n",
    "2. Save your notebook by clicking on the Save icon or using the \"File->Save and Checkpoint\" menu item.\n",
    "3. Generate a static HTML version of your notebook by using the \"File->Print Preview\" menu item. The static HTML version should open in a new tab or window.\n",
    "4. Generate a PDF of that version. You can follow this guide: [How to Save a Webpage as a PDF](https://www.digitaltrends.com/computing/how-to-save-a-webpage-as-a-pdf/)\n",
    "\n",
    "Submit the PDF of the notebook to Homework 1 assignment page on Canvas."
   ]
  },
  {
   "cell_type": "code",
   "execution_count": null,
   "metadata": {},
   "outputs": [],
   "source": []
  }
 ],
 "metadata": {
  "kernelspec": {
   "display_name": "Python 3",
   "language": "python",
   "name": "python3"
  },
  "language_info": {
   "codemirror_mode": {
    "name": "ipython",
    "version": 3
   },
   "file_extension": ".py",
   "mimetype": "text/x-python",
   "name": "python",
   "nbconvert_exporter": "python",
   "pygments_lexer": "ipython3",
   "version": "3.7.3"
  },
  "latex_envs": {
   "LaTeX_envs_menu_present": true,
   "autoclose": true,
   "autocomplete": true,
   "bibliofile": "biblio.bib",
   "cite_by": "apalike",
   "current_citInitial": 1,
   "eqLabelWithNumbers": true,
   "eqNumInitial": 1,
   "hotkeys": {
    "equation": "Ctrl-E",
    "itemize": "Ctrl-I"
   },
   "labels_anchors": false,
   "latex_user_defs": false,
   "report_style_numbering": false,
   "user_envs_cfg": false
  }
 },
 "nbformat": 4,
 "nbformat_minor": 2
}
